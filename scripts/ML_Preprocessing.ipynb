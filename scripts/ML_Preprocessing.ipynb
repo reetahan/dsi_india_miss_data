{
 "cells": [
  {
   "cell_type": "markdown",
   "id": "6cdccd92",
   "metadata": {},
   "source": [
    "# Machine Learning Preprocessing\n",
    "\n",
    "Here, we do the preprocessing to generate the training and testing datasets for the machine learning framework, from the missing-regridded datasets."
   ]
  },
  {
   "cell_type": "markdown",
   "id": "d7df9592",
   "metadata": {},
   "source": [
    "Import necessary libraries"
   ]
  },
  {
   "cell_type": "code",
   "execution_count": 1,
   "id": "af67ff31",
   "metadata": {},
   "outputs": [],
   "source": [
    "import xarray as xr\n",
    "import pandas as pd\n",
    "import numpy as np\n",
    "import gc"
   ]
  },
  {
   "cell_type": "markdown",
   "id": "00d74a26",
   "metadata": {},
   "source": [
    "Give the filepath prefix to which missing-regridded file set that you generated that you plan to use. Then, we get all those files and the approrpriate data in them"
   ]
  },
  {
   "cell_type": "code",
   "execution_count": 7,
   "id": "d0c5f7fa",
   "metadata": {},
   "outputs": [],
   "source": [
    "prefix = \"/data0/rm3873/aod_30_\""
   ]
  },
  {
   "cell_type": "code",
   "execution_count": 8,
   "id": "38e34bb0",
   "metadata": {},
   "outputs": [],
   "source": [
    "feature_ml = {\n",
    "    \"pm\":[\"PM25\"],\n",
    "    \"gas\":['CO_trop', 'SO2_trop', 'NO2_trop', 'CH2O_trop', 'NH3_trop'],\n",
    "    \"aod\":['AOT_C', 'AOT_DUST_C'],\n",
    "    \"met\":['T2M', 'PBLH', 'U10M', 'V10M', 'PRECTOT', 'RH'],\n",
    "    \"emission\":['EmisDST_Natural', \n",
    "                'EmisNO_Fert', 'EmisNO_Lightning', 'EmisNO_Ship', 'EmisNO_Soil'],\n",
    "}\n",
    "feature_ls = [feature_ml[k] for k in feature_ml] \n",
    "feature_ls = sum(feature_ls,[])"
   ]
  },
  {
   "cell_type": "code",
   "execution_count": 9,
   "id": "8b5c085a",
   "metadata": {},
   "outputs": [],
   "source": [
    "fname_list = []\n",
    "for spec in feature_ls:\n",
    "    fname_list.append(prefix + spec + '.nc')\n",
    "ds = xr.merge(xr.open_dataset(fname) for fname in fname_list)"
   ]
  },
  {
   "cell_type": "markdown",
   "id": "d3df9da2",
   "metadata": {},
   "source": [
    "We select a number of days in the year to randomly pick as the testing data, and the rest is training."
   ]
  },
  {
   "cell_type": "code",
   "execution_count": 10,
   "id": "5c229f71",
   "metadata": {},
   "outputs": [],
   "source": [
    "test_idxs = np.random.choice(range(1,366), 60, replace=False)\n",
    "train_idxs = [i for i in range(1,366) if i not in test_idxs]"
   ]
  },
  {
   "cell_type": "markdown",
   "id": "8c4bb432",
   "metadata": {},
   "source": [
    "We generate the final training and testing data and write them in compressed version to disk."
   ]
  },
  {
   "cell_type": "code",
   "execution_count": 11,
   "id": "1af83be5",
   "metadata": {},
   "outputs": [],
   "source": [
    "train = ds.sel(indexers={'time':train_idxs}).to_dataframe().reset_index().dropna()\n",
    "train.to_parquet(prefix + 'missing_train_v2.gzip', compression='gzip') \n",
    "\n",
    "test = ds.sel(indexers={'time':test_idxs}).to_dataframe().reset_index().dropna()\n",
    "test.to_parquet(prefix + 'missing_test_v2.gzip', compression='gzip') "
   ]
  }
 ],
 "metadata": {
  "kernelspec": {
   "display_name": "Python 3",
   "language": "python",
   "name": "python3"
  },
  "language_info": {
   "codemirror_mode": {
    "name": "ipython",
    "version": 3
   },
   "file_extension": ".py",
   "mimetype": "text/x-python",
   "name": "python",
   "nbconvert_exporter": "python",
   "pygments_lexer": "ipython3",
   "version": "3.10.0"
  }
 },
 "nbformat": 4,
 "nbformat_minor": 5
}
